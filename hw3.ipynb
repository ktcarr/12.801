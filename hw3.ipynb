{
 "cells": [
  {
   "cell_type": "code",
   "execution_count": 1,
   "id": "a36c5bd2-5321-41a5-9a7b-355df6a47592",
   "metadata": {},
   "outputs": [],
   "source": [
    "import numpy as np\n",
    "import matplotlib.pyplot as plt\n",
    "import seaborn as sns\n",
    "sns.set()\n",
    "import cmocean\n",
    "pi = np.pi"
   ]
  },
  {
   "cell_type": "markdown",
   "id": "8fe06c17-b280-4202-835f-f5cae84daa90",
   "metadata": {},
   "source": [
    "\\begin{align*}\n",
    "    \\Psi&=\\frac{f_0w_0L}{2\\beta H}\\\\\n",
    "    \\psi_B\\left(x\\right) &= -\\Psi\\left(1-\\frac{x}{L}\\right)\\sin\\left(\\frac{\\pi y}{L}\\right)\\mathcal{H}(t)\\\\\n",
    "    &= -\\Psi\\left(1-x'\\right)\\sin\\left(\\pi y'\\right)\\mathcal{H}(t)\n",
    "\\end{align*}"
   ]
  },
  {
   "cell_type": "markdown",
   "id": "0666d095-7864-4662-8521-733376cc7f82",
   "metadata": {},
   "source": [
    "Where $\\left(x,y\\right)=L\\left(x',y'\\right)$. Next, draw contours of $f(x,y)=cy+\\psi_B(x,y)=\\left(cL\\right)y'+\\psi_B(x,y)$, where $c=\\frac{\\beta}{2F}=\\frac{\\beta g' H}{2 f_0^2}$. Let $A=\\frac{cL}{\\Psi}$."
   ]
  },
  {
   "cell_type": "markdown",
   "id": "b4d83b5f-a46c-4192-bc7b-bec573707208",
   "metadata": {},
   "source": [
    " Units of $\\Psi$: $\\frac{s^{-1}m~s^{-1}m}{m^{-1}s^{-1}m}=\\frac{m^2s^{-2}}{s^{-1}}=m^2s^{-1}$. Units of $c$: $\\frac{m^{-1}s^{-1} m~s^{-2}m}{s^{-2}}$"
   ]
  },
  {
   "cell_type": "code",
   "execution_count": 17,
   "id": "ed9c2df8-72fa-41a1-b54f-7d06865f0725",
   "metadata": {},
   "outputs": [],
   "source": [
    "L      = 3e6   # 3000 km\n",
    "beta   = 2e-11 # 1/(m*s)\n",
    "H      = 5e2   # m (depth of each layer)\n",
    "gprime = 1e-2  # units: m/s^2; computed as g*(rho1-rho2)/rho1\n",
    "f0     = 1e-4  # 1/s\n",
    "w0     = pi * 10 * 1/365 * 1/86400 # (10 * pi) m/year * (year/365 days) * (day/86400 sec)\n",
    "\n",
    "F   = f0**2/(gprime*H)\n",
    "c   = beta/(2*F)\n",
    "Psi = f0*w0*L/(2*beta*H)\n",
    "\n",
    "# Note: x,y defined below are non-dimensionalized by L\n",
    "x,y = np.meshgrid(np.linspace(0,1), np.linspace(-1,1))\n",
    "\n",
    "psi_B = -Psi*(1-x)*np.sin(pi*y)\n",
    "f     = c*L*y + psi_B"
   ]
  },
  {
   "cell_type": "code",
   "execution_count": 18,
   "id": "eb38fbcd-ffc9-4433-bf90-4e54774d33cb",
   "metadata": {},
   "outputs": [
    {
     "name": "stdout",
     "output_type": "stream",
     "text": [
      "1.003822057069202\n"
     ]
    }
   ],
   "source": [
    "print(c*L/Psi)"
   ]
  },
  {
   "cell_type": "code",
   "execution_count": 24,
   "id": "ad7843d7-eb59-4600-9f0c-def50b74f711",
   "metadata": {},
   "outputs": [
    {
     "data": {
      "text/plain": [
       "0.9994862162006879"
      ]
     },
     "execution_count": 24,
     "metadata": {},
     "output_type": "execute_result"
    }
   ],
   "source": [
    "(psi_B/Psi).max()"
   ]
  },
  {
   "cell_type": "code",
   "execution_count": 28,
   "id": "229d11b2-ffcf-4dde-a2b7-6d9af4bb6dde",
   "metadata": {},
   "outputs": [
    {
     "data": {
      "text/plain": [
       "14999.999999999998"
      ]
     },
     "execution_count": 28,
     "metadata": {},
     "output_type": "execute_result"
    }
   ],
   "source": [
    "c*L"
   ]
  },
  {
   "cell_type": "code",
   "execution_count": 26,
   "id": "c1594d2f-62f0-40ec-aa99-a3c57a183c01",
   "metadata": {},
   "outputs": [
    {
     "data": {
      "text/plain": [
       "1.0"
      ]
     },
     "execution_count": 26,
     "metadata": {},
     "output_type": "execute_result"
    }
   ],
   "source": [
    "(c*L*y/(c*L)).max()"
   ]
  },
  {
   "cell_type": "code",
   "execution_count": 21,
   "id": "12ee2ed6-a8b3-44b8-98b4-69d5934539d0",
   "metadata": {},
   "outputs": [
    {
     "data": {
      "image/png": "[encoded data removed]",
      "text/plain": [
       "<Figure size 432x288 with 2 Axes>"
      ]
     },
     "metadata": {},
     "output_type": "display_data"
    }
   ],
   "source": [
    "fig,ax = plt.subplots()\n",
    "ax.set_aspect(.5)\n",
    "p = ax.contourf(x,y, f, cmap='cmo.balance', levels=np.arange(-1.6e4,1.6e4+1.6e3,1.6e3))\n",
    "cb = fig.colorbar(p, fraction=.04)\n",
    "ax.set_xlabel(r\"$x'$\")\n",
    "ax.set_ylabel(r\"$y'$\")\n",
    "plt.show()"
   ]
  }
 ],
 "metadata": {
  "kernelspec": {
   "display_name": "m1",
   "language": "python",
   "name": "m1"
  },
  "language_info": {
   "codemirror_mode": {
    "name": "ipython",
    "version": 3
   },
   "file_extension": ".py",
   "mimetype": "text/x-python",
   "name": "python",
   "nbconvert_exporter": "python",
   "pygments_lexer": "ipython3",
   "version": "3.9.6"
  }
 },
 "nbformat": 4,
 "nbformat_minor": 5
}
